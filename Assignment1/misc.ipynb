{
 "cells": [
  {
   "cell_type": "code",
   "execution_count": 14,
   "metadata": {},
   "outputs": [
    {
     "name": "stdout",
     "output_type": "stream",
     "text": [
      "['A', 'C', 'G', 'H', 'O', 'P', 'P', 'R', 'R', 'T', 'Y', 'Y']\n",
      "ACGHOPPRRTYY\n"
     ]
    }
   ],
   "source": [
    "key = \"CRYPTOGRAPHY\"\n",
    "print(sorted(key))\n",
    "print(''.join(sorted(key)))\n",
    "len(key)\n",
    "\n",
    "sorted_key = ''.join(sorted(key))"
   ]
  },
  {
   "cell_type": "code",
   "execution_count": 3,
   "metadata": {},
   "outputs": [
    {
     "name": "stdout",
     "output_type": "stream",
     "text": [
      "8 0 6 10 5 3 3 1 1 4 2 2 "
     ]
    }
   ],
   "source": [
    "for char in list(sorted(key)):\n",
    "    print(key.index(char),end=\" \")"
   ]
  },
  {
   "cell_type": "code",
   "execution_count": 18,
   "metadata": {},
   "outputs": [
    {
     "data": {
      "text/plain": [
       "49"
      ]
     },
     "execution_count": 18,
     "metadata": {},
     "output_type": "execute_result"
    }
   ],
   "source": [
    "ciphertext = \"ypdrphity sitv osnd esue pgen nooy eibh amie libg onli tsoa\"\n",
    "len(ciphertext)"
   ]
  },
  {
   "cell_type": "code",
   "execution_count": 26,
   "metadata": {},
   "outputs": [
    {
     "name": "stdout",
     "output_type": "stream",
     "text": [
      "{'A': 'ypdrp', 'C': 'hity', 'G': 'sitv', 'H': 'osnd', 'O': 'esue', 'P': 'pgen', 'P1': 'nooy', 'R': 'eibh', 'R1': 'amie', 'T': 'libg', 'Y': 'onli', 'Y1': 'tsoa'}\n"
     ]
    }
   ],
   "source": [
    "transposed_matrix = {}\n",
    "transposed_matrix[sorted_key[0]] = ciphertext[:5]\n",
    "counter = 5\n",
    "for i in sorted_key[1:]:\n",
    "    if i in transposed_matrix:\n",
    "        transposed_matrix[i+'1'] = ciphertext[counter:counter+4]\n",
    "    else:\n",
    "        transposed_matrix[i] = ciphertext[counter:counter+4]\n",
    "    counter+=4\n",
    "print(transposed_matrix)"
   ]
  },
  {
   "cell_type": "code",
   "execution_count": 7,
   "metadata": {},
   "outputs": [
    {
     "data": {
      "text/plain": [
       "4.083333333333333"
      ]
     },
     "execution_count": 7,
     "metadata": {},
     "output_type": "execute_result"
    }
   ],
   "source": [
    "len(ciphertext)/len(key)"
   ]
  },
  {
   "cell_type": "code",
   "execution_count": 17,
   "metadata": {},
   "outputs": [
    {
     "data": {
      "text/plain": [
       "'ypdrp'"
      ]
     },
     "execution_count": 17,
     "metadata": {},
     "output_type": "execute_result"
    }
   ],
   "source": [
    "ciphertext[:5]"
   ]
  },
  {
   "cell_type": "code",
   "execution_count": 32,
   "metadata": {},
   "outputs": [
    {
     "name": "stdout",
     "output_type": "stream",
     "text": [
      "(A) 0 (B) 1 (C) 2 (D) 3 (E) 4 (F) 5 (G) 6 (H) 7 (I) 8 (J) 9 (K) 10 (L) 11 (M) 12 (N) 13 (O) 14 (P) 15 (Q) 16 (R) 17 (S) 18 (T) 19 (U) 20 (V) 21 (W) 22 (X) 23 (Y) 24 (Z) 25 "
     ]
    }
   ],
   "source": [
    "s = \"ABCDEFGHIJKLMNOPQRSTUVWXYZ\"\n",
    "for i in s:\n",
    "    print(f'({i})', ord(i) - ord(\"A\"), end=\" \")"
   ]
  },
  {
   "cell_type": "code",
   "execution_count": 35,
   "metadata": {},
   "outputs": [
    {
     "data": {
      "text/plain": [
       "19"
      ]
     },
     "execution_count": 35,
     "metadata": {},
     "output_type": "execute_result"
    }
   ],
   "source": [
    "(2*25 + 5*25)%26"
   ]
  },
  {
   "cell_type": "code",
   "execution_count": null,
   "metadata": {},
   "outputs": [],
   "source": []
  }
 ],
 "metadata": {
  "kernelspec": {
   "display_name": "base",
   "language": "python",
   "name": "python3"
  },
  "language_info": {
   "codemirror_mode": {
    "name": "ipython",
    "version": 3
   },
   "file_extension": ".py",
   "mimetype": "text/x-python",
   "name": "python",
   "nbconvert_exporter": "python",
   "pygments_lexer": "ipython3",
   "version": "3.10.14"
  }
 },
 "nbformat": 4,
 "nbformat_minor": 2
}
