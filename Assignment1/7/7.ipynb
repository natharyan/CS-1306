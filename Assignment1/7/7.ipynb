{
 "cells": [
  {
   "cell_type": "markdown",
   "metadata": {},
   "source": [
    "### Letter Frequency Based Attack"
   ]
  },
  {
   "cell_type": "code",
   "execution_count": 30,
   "metadata": {},
   "outputs": [
    {
     "name": "stdout",
     "output_type": "stream",
     "text": [
      "thegraymanisaamericanactionthrillerfilmdirectedbyanthonyandjoerussofromascreenplaythelattercowrotewithchristophermarkusandstephenmcfeelybasedonthenovelofthesamenamebymarkgreaneythefilmstarsryangoslingchrisevansanadearmasjessicahenwickregjeanpagewagnermourajuliabuttersdhanushinhishollywooddebutalfrewoodardandbillybobthorntonproducedbytherussobrotherscompanyagboitisthefirstfilminafranchisebasedupongreaneysgraymannovelstheplotcentersonciaagentsierrasixportrayedbygoslingwhoisontherunfromsociopathice\n"
     ]
    }
   ],
   "source": [
    "with open('7.txt','r') as f:\n",
    "    lines = f.readlines()\n",
    "    # get a single string\n",
    "    lines = ''.join(lines)\n",
    "    # not include any accented characters\n",
    "    lines = lines.encode('ascii', 'ignore').decode('ascii')\n",
    "    lines = ''.join([i.lower() for i in lines if i.isalpha()])\n",
    "    print(lines[:500])\n"
   ]
  },
  {
   "cell_type": "code",
   "execution_count": 31,
   "metadata": {},
   "outputs": [
    {
     "name": "stdout",
     "output_type": "stream",
     "text": [
      "26\n"
     ]
    }
   ],
   "source": [
    "def getcountdict(l):\n",
    "    countdict = {}\n",
    "    for i in l:\n",
    "        if i in countdict:\n",
    "            countdict[i] += 1\n",
    "        else:\n",
    "            countdict[i] = 1\n",
    "\n",
    "    print(len(countdict))\n",
    "    \n",
    "    return countdict\n",
    "\n",
    "ref_cntdict = getcountdict(lines)\n",
    "\n",
    "def getfreqfict(count_dict, length):\n",
    "    freqdict = {}\n",
    "    for char, count in count_dict.items():\n",
    "        freqdict[ord(char) - ord('a')] = count / length\n",
    "    return freqdict\n",
    "\n",
    "ref_freqdict = getfreqfict(ref_cntdict,len(lines))\n",
    "# sort the dictionary by key\n",
    "ref_freqdict = dict(sorted(ref_freqdict.items()))"
   ]
  },
  {
   "cell_type": "code",
   "execution_count": 32,
   "metadata": {},
   "outputs": [
    {
     "data": {
      "text/plain": [
       "{0: 0.09626467449306296,\n",
       " 1: 0.014514407684098186,\n",
       " 2: 0.03649946638207044,\n",
       " 3: 0.03585912486659552,\n",
       " 4: 0.11419423692636073,\n",
       " 5: 0.023265741728922092,\n",
       " 6: 0.020917822838847386,\n",
       " 7: 0.04589114194236926,\n",
       " 8: 0.08196371398078975,\n",
       " 9: 0.0021344717182497333,\n",
       " 10: 0.008751334044823906,\n",
       " 11: 0.0439701173959445,\n",
       " 12: 0.02582710779082177,\n",
       " 13: 0.07812166488794023,\n",
       " 14: 0.06467449306296691,\n",
       " 15: 0.016648879402347917,\n",
       " 16: 0.0012806830309498398,\n",
       " 17: 0.07193169690501601,\n",
       " 18: 0.07556029882604055,\n",
       " 19: 0.0712913553895411,\n",
       " 20: 0.020490928495197437,\n",
       " 21: 0.010458911419423693,\n",
       " 22: 0.01344717182497332,\n",
       " 23: 0.007470651013874066,\n",
       " 24: 0.016008537886873,\n",
       " 25: 0.0025613660618996796}"
      ]
     },
     "execution_count": 32,
     "metadata": {},
     "output_type": "execute_result"
    }
   ],
   "source": [
    "ref_freqdict"
   ]
  },
  {
   "cell_type": "code",
   "execution_count": 33,
   "metadata": {},
   "outputs": [
    {
     "name": "stdout",
     "output_type": "stream",
     "text": [
      "{0: 0.09626467449306296, 1: 0.014514407684098186, 2: 0.03649946638207044, 3: 0.03585912486659552, 4: 0.11419423692636073, 5: 0.023265741728922092, 6: 0.020917822838847386, 7: 0.04589114194236926, 8: 0.08196371398078975, 9: 0.0021344717182497333, 10: 0.008751334044823906, 11: 0.0439701173959445, 12: 0.02582710779082177, 13: 0.07812166488794023, 14: 0.06467449306296691, 15: 0.016648879402347917, 16: 0.0012806830309498398, 17: 0.07193169690501601, 18: 0.07556029882604055, 19: 0.0712913553895411, 20: 0.020490928495197437, 21: 0.010458911419423693, 22: 0.01344717182497332, 23: 0.007470651013874066, 24: 0.016008537886873, 25: 0.0025613660618996796} 26\n"
     ]
    }
   ],
   "source": [
    "print(ref_freqdict,len(ref_freqdict))"
   ]
  },
  {
   "cell_type": "code",
   "execution_count": 38,
   "metadata": {},
   "outputs": [
    {
     "name": "stdout",
     "output_type": "stream",
     "text": [
      "16\n",
      "{0: 0.06382978723404255, 1: 0.02127659574468085, 2: 0.0851063829787234, 4: 0.06382978723404255, 5: 0.0425531914893617, 6: 0.0851063829787234, 7: 0.02127659574468085, 13: 0.1276595744680851, 15: 0.06382978723404255, 16: 0.06382978723404255, 17: 0.14893617021276595, 19: 0.02127659574468085, 20: 0.0425531914893617, 21: 0.0851063829787234, 24: 0.02127659574468085, 25: 0.0425531914893617} 16\n"
     ]
    }
   ],
   "source": [
    "ciphertext = \"uryczrvzgenccrqvafvqrnpnrfnepvcurenaqpnagtrgbhg\"\n",
    "ciph_cntdict = getcountdict(ciphertext)\n",
    "ciph_freqdict = getfreqfict(ciph_cntdict,len(ciphertext))\n",
    "ciph_freqdict = dict(sorted(ciph_freqdict.items()))\n",
    "print(ciph_freqdict,len(ciph_freqdict))\n",
    "for i in range(26):\n",
    "    if i not in ciph_freqdict:\n",
    "        ciph_freqdict[i] = 0"
   ]
  },
  {
   "cell_type": "code",
   "execution_count": 39,
   "metadata": {},
   "outputs": [
    {
     "data": {
      "text/plain": [
       "{'u': 2,\n",
       " 'r': 7,\n",
       " 'y': 1,\n",
       " 'c': 4,\n",
       " 'z': 2,\n",
       " 'v': 4,\n",
       " 'g': 4,\n",
       " 'e': 3,\n",
       " 'n': 6,\n",
       " 'q': 3,\n",
       " 'a': 3,\n",
       " 'f': 2,\n",
       " 'p': 3,\n",
       " 't': 1,\n",
       " 'b': 1,\n",
       " 'h': 1}"
      ]
     },
     "execution_count": 39,
     "metadata": {},
     "output_type": "execute_result"
    }
   ],
   "source": [
    "ciph_cntdict"
   ]
  },
  {
   "cell_type": "code",
   "execution_count": 40,
   "metadata": {},
   "outputs": [
    {
     "name": "stdout",
     "output_type": "stream",
     "text": [
      "13\n"
     ]
    }
   ],
   "source": [
    "# get the minimum error key:\n",
    "import numpy as np\n",
    "\n",
    "def getshifterrors(ref,ciph):\n",
    "    error_list = []\n",
    "    error = 0\n",
    "    for shift in range(26):\n",
    "        for index in range(26):\n",
    "            error += np.square(ref[(index+shift)%26] - ciph[index])\n",
    "        error_list.append(error)\n",
    "        error = 0\n",
    "    return error_list\n",
    "\n",
    "shifterrors = getshifterrors(ref_freqdict,ciph_freqdict)\n",
    "\n",
    "key = shifterrors.index(min(shifterrors))\n",
    "print(key)"
   ]
  },
  {
   "cell_type": "code",
   "execution_count": 41,
   "metadata": {},
   "outputs": [
    {
     "name": "stdout",
     "output_type": "stream",
     "text": [
      "helpmeimtrappedinsideacaesarcipherandcantgetout\n"
     ]
    }
   ],
   "source": [
    "def getplaintext(ciphertext,key):\n",
    "    plaintext = ''\n",
    "    for i in ciphertext:\n",
    "        plaintext += chr((ord(i) - ord('a') - key) % 26 + ord('a'))\n",
    "    return plaintext\n",
    "\n",
    "print(getplaintext(ciphertext,key))"
   ]
  },
  {
   "cell_type": "markdown",
   "metadata": {},
   "source": [
    "## Entire Implementation"
   ]
  },
  {
   "cell_type": "code",
   "execution_count": 7,
   "metadata": {},
   "outputs": [
    {
     "name": "stdout",
     "output_type": "stream",
     "text": [
      "A:\n",
      "Plaintext: helpmeimtrappedinsideacaesarcipherandcantgetout\n",
      "B:\n",
      "Plaintext: youmustbespeedoflightbecausetimestopswhenilookatyouhappyvalentinesday\n",
      "C:\n",
      "Plaintext: ihopeyouinterceptthissecrettransmissionwithoutanyerrorthistransmissionhastravelledamillionlightyearstoinformyouthatwearecomingsoon\n",
      "D:\n",
      "Plaintext: olddebayanisagoodoneexceptformelonmelonmelonmelonmelon\n"
     ]
    }
   ],
   "source": [
    "import numpy as np\n",
    "\n",
    "with open('7.txt','r') as f:\n",
    "    lines = f.readlines()\n",
    "    # get a single string\n",
    "    lines = ''.join(lines)\n",
    "    # not include any accented characters\n",
    "    lines = lines.encode('ascii', 'ignore').decode('ascii')\n",
    "    lines = ''.join([i.lower() for i in lines if i.isalpha()])\n",
    "\n",
    "def getcountdict(l):\n",
    "    countdict = {}\n",
    "    for i in l:\n",
    "        if i in countdict:\n",
    "            countdict[i] += 1\n",
    "        else:\n",
    "            countdict[i] = 1\n",
    "    \n",
    "    return countdict\n",
    "\n",
    "# use chi-squared error for better comparison with varying ciphertext length and rare characters\n",
    "def chi_squared(observed, expected):\n",
    "    return sum((observed.get(i, 0) - expected.get(i, 0))**2 / expected.get(i, 1e-10) for i in range(26))\n",
    "\n",
    "def getfreqfict(count_dict, length):\n",
    "    freqdict = {}\n",
    "    for char, count in count_dict.items():\n",
    "        freqdict[ord(char) - ord('a')] = count / length\n",
    "    return freqdict\n",
    "\n",
    "def getshifterrors(ref, ciph):\n",
    "    error_list = []\n",
    "    for shift in range(26):\n",
    "        shifted_ciph = {(i-shift)%26: ciph[i] for i in range(26)}\n",
    "        error = chi_squared(shifted_ciph, ref)\n",
    "        error_list.append(error)\n",
    "    return error_list\n",
    "\n",
    "def getplaintext(ciphertext,key):\n",
    "    plaintext = ''\n",
    "    for i in ciphertext:\n",
    "        plaintext += chr((ord(i) - ord('a') - key) % 26 + ord('a'))\n",
    "    return plaintext\n",
    "\n",
    "def _getplaintext(ciphtext,ref_freqdict):\n",
    "    ciph_cntdict = getcountdict(ciphtext)\n",
    "    ciph_freqdict = getfreqfict(ciph_cntdict,len(ciphtext))\n",
    "    ciph_freqdict = dict(sorted(ciph_freqdict.items()))\n",
    "    for i in range(26):\n",
    "        if i not in ciph_freqdict:\n",
    "            ciph_freqdict[i] = 0\n",
    "    shifterrors = getshifterrors(ref_freqdict,ciph_freqdict)\n",
    "    key = shifterrors.index(min(shifterrors))\n",
    "    return getplaintext(ciphtext,key)\n",
    "\n",
    "if __name__ == \"__main__\":\n",
    "    ref_cntdict = getcountdict(lines)\n",
    "    ref_freqdict = getfreqfict(ref_cntdict,len(lines))\n",
    "    ref_freqdict = dict(sorted(ref_freqdict.items()))\n",
    "\n",
    "    print(\"A:\")\n",
    "    ciphertext1 = \"uryczrvzgenccrqvafvqrnpnrfnepvcurenaqpnagtrgbhg\"\n",
    "    # print(\"Ciphertext:\",ciphertext1)\n",
    "    plaintext1 = _getplaintext(ciphertext1,ref_freqdict)\n",
    "    print(\"Plaintext:\",plaintext1)\n",
    "\n",
    "    print(\"B:\")\n",
    "    ciphertext2 = \"pfldljksvjgvvufwczxyksvtrljvkzdvjkfgjnyvezcffbrkpflyrggpmrcvekzevjurp\"\n",
    "    # print(\"Ciphertext:\",ciphertext2)\n",
    "    plaintext2 = _getplaintext(ciphertext2,ref_freqdict)\n",
    "    print(\"Plaintext:\",plaintext2)\n",
    "\n",
    "    print(\"C:\")\n",
    "    ciphertext3 = \"hgnodxnthmsdqbdossghrrdbqdssqzmrlhrrhnmvhsgntszmxdqqnqsghrsqzmrlhrrhnmgzrsqzudkkdczlhkkhnmkhfgsxdzqrsnhmenqlxntsgzsvdzqdbnlhmfrnnm\"\n",
    "    # print(\"Ciphertext:\",ciphertext3)\n",
    "    plaintext3 = _getplaintext(ciphertext3,ref_freqdict)\n",
    "    print(\"Plaintext:\",plaintext3)\n",
    "\n",
    "    print(\"D:\")\n",
    "    ciphertext4 = \"khzzaxwuwjeowckkzkjaatyalpbkniahkjiahkjiahkjiahkjiahkj\"\n",
    "    # print(\"Ciphertext:\",ciphertext4)\n",
    "    plaintext4 = _getplaintext(ciphertext4,ref_freqdict)\n",
    "    print(\"Plaintext:\",plaintext4)"
   ]
  },
  {
   "cell_type": "code",
   "execution_count": null,
   "metadata": {},
   "outputs": [],
   "source": []
  }
 ],
 "metadata": {
  "kernelspec": {
   "display_name": "base",
   "language": "python",
   "name": "python3"
  },
  "language_info": {
   "codemirror_mode": {
    "name": "ipython",
    "version": 3
   },
   "file_extension": ".py",
   "mimetype": "text/x-python",
   "name": "python",
   "nbconvert_exporter": "python",
   "pygments_lexer": "ipython3",
   "version": "3.11.4"
  }
 },
 "nbformat": 4,
 "nbformat_minor": 2
}
